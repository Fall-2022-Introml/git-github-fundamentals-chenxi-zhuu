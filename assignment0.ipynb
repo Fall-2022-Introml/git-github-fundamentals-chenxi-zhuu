{
 "cells": [
  {
   "cell_type": "code",
   "execution_count": 6,
   "id": "d88d93a7",
   "metadata": {},
   "outputs": [
    {
     "name": "stdout",
     "output_type": "stream",
     "text": [
      "[3, 5, 37]\n",
      "[8, 42, 12]\n"
     ]
    }
   ],
   "source": [
    "#show the odd number and the even number\n",
    "numbers=[12,37,5,42,8,3]\n",
    "even=[]\n",
    "odd=[]\n",
    "while len(numbers)>0:\n",
    "    number=numbers.pop()\n",
    "    if(number%2==0):\n",
    "        even.append(number)\n",
    "    else:\n",
    "        odd.append(number)\n",
    "print(odd)\n",
    "print(even)\n"
   ]
  },
  {
   "cell_type": "code",
   "execution_count": 23,
   "id": "a544bb05",
   "metadata": {},
   "outputs": [
    {
     "name": "stdout",
     "output_type": "stream",
     "text": [
      "the variable number now= 10\n",
      "the variable number now= 9\n",
      "the variable number now= 8\n",
      "the variable number now= 7\n",
      "the variable number now= 6\n",
      "Good bye!\n"
     ]
    }
   ],
   "source": [
    "#print the letter until 5\n",
    "var = 10                   \n",
    "while var > 0:              \n",
    "   print ('the variable number now=', var)\n",
    "   var = var -1\n",
    "   if var == 5:   \n",
    "      break\n",
    "print (\"Good bye!\")"
   ]
  },
  {
   "cell_type": "markdown",
   "id": "1c06be0d",
   "metadata": {},
   "source": [
    "|student|GPA|\n",
    "|---|---|\n",
    "|Addy|3.5|\n",
    "|Bill|3.3|\n",
    "|Ben|2.8|"
   ]
  },
  {
   "cell_type": "markdown",
   "id": "179e07a5",
   "metadata": {},
   "source": [
    "*AAAA*\n",
    "_AAAA_\n",
    "**BBBB**\n",
    "__BBBB__\n",
    "***CCCC***\n",
    "___CCCC___"
   ]
  },
  {
   "cell_type": "markdown",
   "id": "7050b103",
   "metadata": {},
   "source": [
    "* first\n",
    "* second\n",
    "* third\n"
   ]
  },
  {
   "cell_type": "code",
   "execution_count": null,
   "id": "a4fe9b7c",
   "metadata": {},
   "outputs": [],
   "source": []
  }
 ],
 "metadata": {
  "kernelspec": {
   "display_name": "Python 3 (ipykernel)",
   "language": "python",
   "name": "python3"
  },
  "language_info": {
   "codemirror_mode": {
    "name": "ipython",
    "version": 3
   },
   "file_extension": ".py",
   "mimetype": "text/x-python",
   "name": "python",
   "nbconvert_exporter": "python",
   "pygments_lexer": "ipython3",
   "version": "3.9.7"
  }
 },
 "nbformat": 4,
 "nbformat_minor": 5
}
